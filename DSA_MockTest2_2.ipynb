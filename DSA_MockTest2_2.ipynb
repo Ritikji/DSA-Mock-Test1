{
  "nbformat": 4,
  "nbformat_minor": 0,
  "metadata": {
    "colab": {
      "provenance": []
    },
    "kernelspec": {
      "name": "python3",
      "display_name": "Python 3"
    },
    "language_info": {
      "name": "python"
    }
  },
  "cells": [
    {
      "cell_type": "markdown",
      "source": [
        "You are given two non-empty linked lists representing two non-negative integers. The digits are stored in reverse order, and each of their nodes contains a single digit. Add the two numbers and return the sum as a linked list.\n",
        "\n",
        "You may assume the two numbers do not contain any leading zero, except the number 0 itself.\n",
        "\n",
        "\n",
        "Example 1:\n",
        "\n",
        "Input: l1 = [2,4,3], l2 = [5,6,4] Output: [7,0,8] Explanation: 342 + 465 = 807.\n",
        "\n",
        "Example 2:\n",
        "\n",
        "Input: l1 = [0], l2 = [0] Output: [0]\n",
        "\n",
        "Example 3:\n",
        "\n",
        "Input: l1 = [9,9,9,9,9,9,9], l2 = [9,9,9,9] Output: [8,9,9,9,0,0,0,1]\n",
        "\n",
        "\n",
        "\n",
        "Constraints:\n",
        "\n",
        "The number of nodes in each linked list is in the range [1, 100].\n",
        "0 <= Node.val <= 9 It is guaranteed that the list represents a number that does not have leading zeros.\n",
        "\n"
      ],
      "metadata": {
        "id": "qDsFfJHO3O-q"
      }
    },
    {
      "cell_type": "code",
      "execution_count": 1,
      "metadata": {
        "id": "i3oXTqm03FdQ"
      },
      "outputs": [],
      "source": [
        "class ListNode:\n",
        "    def __init__(self, val=0, next=None):\n",
        "        self.val = val\n",
        "        self.next = next\n",
        "\n",
        "def addTwoNumbers(l1, l2):\n",
        "    dummy = ListNode(0)\n",
        "    curr = dummy\n",
        "    carry = 0\n",
        "\n",
        "    while l1 or l2 or carry:\n",
        "        if l1:\n",
        "            carry += l1.val\n",
        "            l1 = l1.next\n",
        "        if l2:\n",
        "            carry += l2.val\n",
        "            l2 = l2.next\n",
        "\n",
        "        curr.next = ListNode(carry % 10)\n",
        "        curr = curr.next\n",
        "        carry //= 10\n",
        "\n",
        "    return dummy.next\n"
      ]
    },
    {
      "cell_type": "code",
      "source": [
        "ListNode"
      ],
      "metadata": {
        "colab": {
          "base_uri": "https://localhost:8080/"
        },
        "id": "d_ab0ZY83Ut7",
        "outputId": "4694ddc4-2685-475f-ea5b-103e4d4efc3e"
      },
      "execution_count": 10,
      "outputs": [
        {
          "output_type": "execute_result",
          "data": {
            "text/plain": [
              "__main__.ListNode"
            ]
          },
          "metadata": {},
          "execution_count": 10
        }
      ]
    },
    {
      "cell_type": "code",
      "source": [
        "addTwoNumbers"
      ],
      "metadata": {
        "colab": {
          "base_uri": "https://localhost:8080/"
        },
        "id": "hMROpwmX3e6C",
        "outputId": "8ebf97ec-79c2-479f-a9ca-df066dee9b0e"
      },
      "execution_count": 11,
      "outputs": [
        {
          "output_type": "execute_result",
          "data": {
            "text/plain": [
              "<function __main__.addTwoNumbers(l1, l2)>"
            ]
          },
          "metadata": {},
          "execution_count": 11
        }
      ]
    },
    {
      "cell_type": "code",
      "source": [],
      "metadata": {
        "id": "79S1F-j63vIZ"
      },
      "execution_count": null,
      "outputs": []
    }
  ]
}