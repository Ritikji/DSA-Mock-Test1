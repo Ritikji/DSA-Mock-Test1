{
  "nbformat": 4,
  "nbformat_minor": 0,
  "metadata": {
    "colab": {
      "provenance": []
    },
    "kernelspec": {
      "name": "python3",
      "display_name": "Python 3"
    },
    "language_info": {
      "name": "python"
    }
  },
  "cells": [
    {
      "cell_type": "markdown",
      "source": [
        "**Q2\n",
        "\n",
        "First Unique Character in a String\n",
        "\n",
        "Given a string s, find the first non-repeating character in it and return its index. If it does not exist, return -1.\n",
        "\n",
        "Example 1:\n",
        "Input: s = \"leetcode\"\n",
        "Output: 0\n",
        "\n",
        "Example 2:\n",
        "Input: s = \"loveleetcode\"\n",
        "Output: 2\n",
        "\n",
        "Example 3:\n",
        "Input: s = \"aabb\"\n",
        "Output: -1\n",
        "\n",
        "Constraints:\n",
        "a. 1 <= s.length <= 10^5\n",
        "b. s consists of only lowercase English letters.\n",
        "\n",
        "Note: Create a GitHub file for the solution and add the file link the the answer section below.**"
      ],
      "metadata": {
        "id": "EjIEijziZyqm"
      }
    },
    {
      "cell_type": "code",
      "execution_count": 1,
      "metadata": {
        "colab": {
          "base_uri": "https://localhost:8080/"
        },
        "id": "cQnta80AZxAK",
        "outputId": "6cced6ae-31a6-4620-f750-f40e617ce817"
      },
      "outputs": [
        {
          "output_type": "stream",
          "name": "stdout",
          "text": [
            "0\n",
            "2\n",
            "-1\n"
          ]
        }
      ],
      "source": [
        "def firstUniqChar(s):\n",
        "    char_freq = {}  # Hashmap to store character frequencies\n",
        "\n",
        "    # Count the frequency of each character in the string\n",
        "    for char in s:\n",
        "        char_freq[char] = char_freq.get(char, 0) + 1\n",
        "\n",
        "    # Iterate through the string and find the first character with a frequency of 1\n",
        "    for i in range(len(s)):\n",
        "        if char_freq[s[i]] == 1:\n",
        "            return i\n",
        "\n",
        "    return -1  # If no non-repeating character is found\n",
        "\n",
        "# Test the function\n",
        "s = \"leetcode\"\n",
        "print(firstUniqChar(s))  # Output: 0\n",
        "\n",
        "s = \"loveleetcode\"\n",
        "print(firstUniqChar(s))  # Output: 2\n",
        "\n",
        "s = \"aabb\"\n",
        "print(firstUniqChar(s))  # Output: -1\n"
      ]
    },
    {
      "cell_type": "code",
      "source": [],
      "metadata": {
        "id": "zeiaIS4BaArr"
      },
      "execution_count": null,
      "outputs": []
    }
  ]
}