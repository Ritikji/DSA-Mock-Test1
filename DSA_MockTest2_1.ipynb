{
  "nbformat": 4,
  "nbformat_minor": 0,
  "metadata": {
    "colab": {
      "provenance": []
    },
    "kernelspec": {
      "name": "python3",
      "display_name": "Python 3"
    },
    "language_info": {
      "name": "python"
    }
  },
  "cells": [
    {
      "cell_type": "markdown",
      "source": [
        "Given a non-negative integer x, return the square root of x rounded down to the nearest integer. The returned integer should be non-negative as well. You must not use any built-in exponent function or operator.\n",
        "\n",
        " Example 1:\n",
        "Input: x = 4 Output: 2 Explanation: The square root of 4 is 2, so we return 2.\n",
        "Example 2:\n",
        "\n",
        "Input: x = 8 Output: 2 Explanation: The square root of 8 is 2.82842..., and since we round it down to the nearest integer, 2 is returned.\n",
        "Constraints:\n",
        "\n",
        "0 <= x <= 2^31 - 1\n",
        "\n",
        "Note: Create a GitHub file for the solution and add the file link the the answer section below."
      ],
      "metadata": {
        "id": "MjujKBu_2l-1"
      }
    },
    {
      "cell_type": "code",
      "execution_count": 1,
      "metadata": {
        "colab": {
          "base_uri": "https://localhost:8080/"
        },
        "id": "qWPIUTOO2j65",
        "outputId": "37c2d370-8a9d-4214-cf20-6fffc7fa7539"
      },
      "outputs": [
        {
          "output_type": "stream",
          "name": "stdout",
          "text": [
            "2\n"
          ]
        }
      ],
      "source": [
        "def mySqrt(x):\n",
        "    if x == 0:\n",
        "        return 0\n",
        "\n",
        "    left = 1\n",
        "    right = x\n",
        "\n",
        "    while left <= right:\n",
        "        mid = left + (right - left) // 2\n",
        "\n",
        "        if mid * mid == x:\n",
        "            return mid\n",
        "        elif mid * mid < x:\n",
        "            left = mid + 1\n",
        "        else:\n",
        "            right = mid - 1\n",
        "\n",
        "    return right\n",
        "\n",
        "# Example usage:\n",
        "x = 8\n",
        "result = mySqrt(x)\n",
        "print(result)\n"
      ]
    },
    {
      "cell_type": "code",
      "source": [],
      "metadata": {
        "id": "0XbfR65m2y7L"
      },
      "execution_count": null,
      "outputs": []
    }
  ]
}